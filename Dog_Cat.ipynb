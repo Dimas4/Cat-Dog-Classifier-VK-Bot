{
 "cells": [
  {
   "cell_type": "code",
   "execution_count": 1,
   "metadata": {},
   "outputs": [],
   "source": [
    "import tensorflow as tf\n",
    "import numpy as np\n",
    "import tflearn\n",
    "import random\n",
    "import cv2\n",
    "import os\n",
    "\n",
    "from tflearn.layers.core import input_data, dropout, fully_connected\n",
    "from tflearn.layers.conv import conv_2d, max_pool_2d\n",
    "from tflearn.layers.estimator import regression\n",
    "from tqdm import tqdm"
   ]
  },
  {
   "cell_type": "code",
   "execution_count": 2,
   "metadata": {},
   "outputs": [],
   "source": [
    "TRAIN = \"/home/ivan/PycharmProjects/ml/Cat_Dog/train/\"\n",
    "TEST = \"/home/ivan/PycharmProjects/ml/Cat_Dog/train/\"\n",
    "SIZE = 50\n",
    "LR = 0.001\n",
    "MODEL_NAME = '{}.model'.format(LR)"
   ]
  },
  {
   "cell_type": "code",
   "execution_count": 3,
   "metadata": {},
   "outputs": [],
   "source": [
    "def load_data(name):\n",
    "    name = name.split('.')[0]\n",
    "    if name == 'cat': \n",
    "        return [1,0]\n",
    "    elif name == 'dog': \n",
    "        return [0,1]"
   ]
  },
  {
   "cell_type": "code",
   "execution_count": 4,
   "metadata": {},
   "outputs": [],
   "source": [
    "def generate_train_data():\n",
    "    train = []\n",
    "    for image in tqdm(os.listdir(TRAIN)):\n",
    "        label = load_data(image)\n",
    "        full_path = os.path.join(TRAIN, image)\n",
    "        image = cv2.imread(full_path, cv2.IMREAD_GRAYSCALE)\n",
    "        image = cv2.resize(image, (SIZE, SIZE))\n",
    "        train.append([np.array(image),np.array(label)])\n",
    "    random.shuffle(train)\n",
    "    return train"
   ]
  },
  {
   "cell_type": "code",
   "execution_count": null,
   "metadata": {},
   "outputs": [],
   "source": [
    "def generate_test_data():\n",
    "    test_data = []\n",
    "    for image in tqdm(os.listdir(TEST)):\n",
    "        full_path = os.path.join(TEST, image)\n",
    "        image_class = image.split('.')[0]\n",
    "        image = cv2.imread(full_path, cv2.IMREAD_GRAYSCALE)\n",
    "        image = cv2.resize(image, (SIZE,SIZE))\n",
    "        test_data.append([np.array(image), image_class])\n",
    "    random.shuffle(test_data)\n",
    "    return test_data"
   ]
  },
  {
   "cell_type": "code",
   "execution_count": null,
   "metadata": {},
   "outputs": [
    {
     "name": "stderr",
     "output_type": "stream",
     "text": [
      "100%|██████████| 25000/25000 [00:28<00:00, 884.31it/s] \n"
     ]
    }
   ],
   "source": [
    "train_data = generate_train_data() "
   ]
  },
  {
   "cell_type": "code",
   "execution_count": null,
   "metadata": {},
   "outputs": [],
   "source": [
    "tf.reset_default_graph()"
   ]
  },
  {
   "cell_type": "code",
   "execution_count": null,
   "metadata": {},
   "outputs": [
    {
     "name": "stdout",
     "output_type": "stream",
     "text": [
      "WARNING:tensorflow:From /home/ivan/PycharmProjects/ml/Cat_Dog/venv/lib/python3.6/site-packages/tflearn-0.3.2-py3.6.egg/tflearn/initializations.py:119: UniformUnitScaling.__init__ (from tensorflow.python.ops.init_ops) is deprecated and will be removed in a future version.\n",
      "Instructions for updating:\n",
      "Use tf.initializers.variance_scaling instead with distribution=uniform to get equivalent behavior.\n",
      "WARNING:tensorflow:From /home/ivan/PycharmProjects/ml/Cat_Dog/venv/lib/python3.6/site-packages/tflearn-0.3.2-py3.6.egg/tflearn/objectives.py:66: calling reduce_sum (from tensorflow.python.ops.math_ops) with keep_dims is deprecated and will be removed in a future version.\n",
      "Instructions for updating:\n",
      "keep_dims is deprecated, use keepdims instead\n"
     ]
    }
   ],
   "source": [
    "cnn = input_data(shape=[None, SIZE, SIZE, 1], name='input')\n",
    "\n",
    "cnn = conv_2d(cnn, 32, 5, activation='relu')\n",
    "cnn = max_pool_2d(cnn, 5)\n",
    "\n",
    "cnn = conv_2d(cnn, 64, 5, activation='relu')\n",
    "cnn = max_pool_2d(cnn, 5)\n",
    "\n",
    "cnn = conv_2d(cnn, 32, 5, activation='relu')\n",
    "cnn = max_pool_2d(cnn, 5)\n",
    "\n",
    "cnn = conv_2d(cnn, 64, 5, activation='relu')\n",
    "cnn = max_pool_2d(cnn, 5)\n",
    "\n",
    "cnn = conv_2d(cnn, 32, 5, activation='relu')\n",
    "cnn = max_pool_2d(cnn, 5)\n",
    "\n",
    "cnn = conv_2d(cnn, 32, 5, activation='relu')\n",
    "cnn = max_pool_2d(cnn, 5)\n",
    "\n",
    "\n",
    "cnn = fully_connected(cnn, 1024, activation='relu')\n",
    "cnn = dropout(cnn, 0.8)\n",
    "\n",
    "cnn = fully_connected(cnn, 2, activation='softmax')\n",
    "cnn = regression(cnn, optimizer='adam', learning_rate=LR, loss='categorical_crossentropy', name='targets')\n",
    "\n",
    "model = tflearn.DNN(cnn, tensorboard_dir='log')"
   ]
  },
  {
   "cell_type": "code",
   "execution_count": null,
   "metadata": {},
   "outputs": [],
   "source": [
    "train = train_data[:-500]\n",
    "test = train_data[-500:]"
   ]
  },
  {
   "cell_type": "code",
   "execution_count": null,
   "metadata": {},
   "outputs": [],
   "source": [
    "X = np.array([i[0] for i in train]).reshape(-1,SIZE,SIZE,1)\n",
    "Y = np.array([i[1] for i in train])\n",
    "\n",
    "test_x = np.array([i[0] for i in test]).reshape(-1,SIZE,SIZE,1)\n",
    "test_y = np.array([i[1] for i in test])"
   ]
  },
  {
   "cell_type": "code",
   "execution_count": null,
   "metadata": {},
   "outputs": [
    {
     "data": {
      "text/plain": [
       "(24500, 50, 50, 1)"
      ]
     },
     "execution_count": 11,
     "metadata": {},
     "output_type": "execute_result"
    }
   ],
   "source": [
    "X.shape"
   ]
  },
  {
   "cell_type": "code",
   "execution_count": null,
   "metadata": {},
   "outputs": [
    {
     "name": "stdout",
     "output_type": "stream",
     "text": [
      "Training Step: 1710  | total loss: \u001b[1m\u001b[32m0.46592\u001b[0m\u001b[0m | time: 51.126s\n",
      "\u001b[2K\r",
      "| Adam | epoch: 005 | loss: 0.46592 - acc: 0.7814 -- iter: 11392/24500\n"
     ]
    }
   ],
   "source": [
    " model.fit({'input': X}, {'targets': Y}, n_epoch=7, \n",
    "          validation_set=({'input': test_x}, {'targets': test_y}), \n",
    "          snapshot_step=500, show_metric=True, run_id=MODEL_NAME)"
   ]
  },
  {
   "cell_type": "code",
   "execution_count": null,
   "metadata": {},
   "outputs": [],
   "source": [
    "model.save(MODEL_NAME)"
   ]
  },
  {
   "cell_type": "code",
   "execution_count": null,
   "metadata": {},
   "outputs": [],
   "source": [
    "if os.path.exists('{}.meta'.format(MODEL_NAME)):\n",
    "    model.load(MODEL_NAME)\n"
   ]
  },
  {
   "cell_type": "code",
   "execution_count": null,
   "metadata": {},
   "outputs": [],
   "source": [
    "model.predict(image)"
   ]
  },
  {
   "cell_type": "code",
   "execution_count": null,
   "metadata": {},
   "outputs": [],
   "source": [
    "image = cv2.imread(\"/home/ivan/PycharmProjects/Cat_Dog_Vk/cat.jpg\", \n",
    "                   cv2.IMREAD_GRAYSCALE)\n",
    "image = cv2.resize(image, (SIZE,SIZE))"
   ]
  },
  {
   "cell_type": "code",
   "execution_count": null,
   "metadata": {},
   "outputs": [],
   "source": [
    "image = image.reshape(-1, SIZE, SIZE, 1)"
   ]
  },
  {
   "cell_type": "code",
   "execution_count": null,
   "metadata": {},
   "outputs": [],
   "source": []
  },
  {
   "cell_type": "code",
   "execution_count": null,
   "metadata": {},
   "outputs": [],
   "source": []
  },
  {
   "cell_type": "code",
   "execution_count": null,
   "metadata": {},
   "outputs": [],
   "source": []
  },
  {
   "cell_type": "code",
   "execution_count": null,
   "metadata": {},
   "outputs": [],
   "source": []
  },
  {
   "cell_type": "code",
   "execution_count": null,
   "metadata": {},
   "outputs": [],
   "source": []
  },
  {
   "cell_type": "code",
   "execution_count": null,
   "metadata": {},
   "outputs": [],
   "source": []
  },
  {
   "cell_type": "code",
   "execution_count": null,
   "metadata": {},
   "outputs": [],
   "source": []
  },
  {
   "cell_type": "code",
   "execution_count": null,
   "metadata": {},
   "outputs": [],
   "source": []
  },
  {
   "cell_type": "code",
   "execution_count": null,
   "metadata": {},
   "outputs": [],
   "source": []
  },
  {
   "cell_type": "code",
   "execution_count": null,
   "metadata": {},
   "outputs": [],
   "source": []
  },
  {
   "cell_type": "code",
   "execution_count": null,
   "metadata": {},
   "outputs": [],
   "source": []
  },
  {
   "cell_type": "code",
   "execution_count": null,
   "metadata": {},
   "outputs": [],
   "source": []
  }
 ],
 "metadata": {
  "kernelspec": {
   "display_name": "virtual",
   "language": "python",
   "name": "virtual"
  },
  "language_info": {
   "codemirror_mode": {
    "name": "ipython",
    "version": 3
   },
   "file_extension": ".py",
   "mimetype": "text/x-python",
   "name": "python",
   "nbconvert_exporter": "python",
   "pygments_lexer": "ipython3",
   "version": "3.6.5"
  }
 },
 "nbformat": 4,
 "nbformat_minor": 2
}
